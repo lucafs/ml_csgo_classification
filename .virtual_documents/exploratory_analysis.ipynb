import sys

import matplotlib.pyplot as plt
import pandas as pd
import seaborn as sns

sys.path.append("./utils")


import loader
import round_classifier
import thresholds
from Parser import Parser


all_data = loader.load_dataset()


all_columns = all_data.columns
all_columns[0:16]


parser = Parser()
treat_data = parser.classify_weapons(all_data.copy())
treat_data = parser.create_round_winner_columns(treat_data.copy())


treat_data["pistol_round"] = treat_data.apply(
    round_classifier.define_pistol_round, axis=1
)

# Defining eco rounds
treat_data["ct_eco"] = treat_data.apply(round_classifier.define_full_ct_eco, axis=1)
treat_data["t_eco"] = treat_data.apply(round_classifier.define_full_t_eco, axis=1)

# Defining force buy rounds
treat_data["ct_force"] = treat_data.apply(
    round_classifier.define_force_ct_round, axis=1
)
treat_data["t_force"] = treat_data.apply(round_classifier.define_force_t_round, axis=1)


# Não acho que são as colunas certas pra analisar, mas só um exemplo do que podemos fazer

n_bins = 7
lower, higher = thresholds.prepare(treat_data.copy(), "ct_health")
treat_data["ct_health_thresholds"] = thresholds.build(
    treat_data.copy(), "ct_health", lower, higher, n_bins
)
treat_data["ct_health_thresholds_num"] = thresholds.build_numerical(
    treat_data.copy(), "ct_health", lower, higher, n_bins
)


# Não acho que são as colunas certas pra analisar, mas só um exemplo do que podemos fazer

n_bins = 7
lower, higher = thresholds.prepare(treat_data.copy(), "t_health")
treat_data["t_health_thresholds"] = thresholds.build(
    treat_data.copy(), "t_health", lower, higher, n_bins
)
treat_data["t_health_thresholds_num"] = thresholds.build_numerical(
    treat_data.copy(), "t_health", lower, higher, n_bins
)


# Selecting columns
normal_columns = all_columns[0:16].tolist()
made_columns_t = [
    "t_main_rifle",
    "t_sec_rifle",
    "t_force_weapons",
    "t_weak_pistols",
    "t_strong_pistols",
    "t_granades",
    "t_weapon_awp",
    "t_eco",
    "t_force",
]
made_columns_ct = [
    "ct_main_rifle",
    "ct_sec_rifle",
    "ct_force_weapons",
    "ct_weak_pistols",
    "ct_strong_pistols",
    "ct_granades",
    "ct_weapon_awp",
    "ct_eco",
    "ct_force",
]
extra_columns = [
    "pistol_round",
    "round_winner",
    "round_winner_t",
    "round_winner_ct",
    "t_health_thresholds",
    "t_health_thresholds_num",
    "ct_health_thresholds",
    "ct_health_thresholds_num",
]
selected_columns = normal_columns + made_columns_ct + made_columns_t + extra_columns

# Getting only columns selected columns
final_df = treat_data[selected_columns]


final_df.info()


# checando nans
final_df.isna().sum()


# Visualizando as correlações
plt.subplots(figsize=(24, 18))
sns.heatmap(final_df.corr(), annot=True)
plt.show()


# Não acho que são as colunas certas pra analisar, mas só um exemplo do que podemos fazer

g = sns.FacetGrid(
    final_df,
    row="round_winner_t",
    col="t_health_thresholds_num",
)
g = g.map(plt.hist, "ct_health_thresholds_num")
plt.show()


# Não acho que são as colunas certas pra analisar, mas só um exemplo do que podemos fazer

g = sns.FacetGrid(
    final_df,
    row="round_winner_ct",
    col="ct_health_thresholds_num",
)
g = g.map(plt.hist, "t_health_thresholds_num")
plt.show()


ct_health = (
    final_df.groupby(["ct_health_thresholds_num", "round_winner_ct"]).size().unstack(1)
)
t_health = (
    final_df.groupby(["t_health_thresholds_num", "round_winner_t"]).size().unstack(1)
)


ct_health.plot(kind="bar")


t_health.plot(kind="bar")



