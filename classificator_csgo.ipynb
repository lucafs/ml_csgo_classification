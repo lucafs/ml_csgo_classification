{
 "cells": [
  {
   "cell_type": "code",
   "execution_count": 95,
   "metadata": {},
   "outputs": [],
   "source": [
    "import pandas as pd\n",
    "all_data = pd.read_csv('csgo_round_snapshots.csv')"
   ]
  },
  {
   "cell_type": "code",
   "execution_count": 96,
   "metadata": {},
   "outputs": [
    {
     "data": {
      "text/plain": [
       "Index(['time_left', 'ct_score', 't_score', 'map', 'bomb_planted', 'ct_health',\n",
       "       't_health', 'ct_armor', 't_armor', 'ct_money', 't_money', 'ct_helmets',\n",
       "       't_helmets', 'ct_defuse_kits', 'ct_players_alive', 't_players_alive',\n",
       "       'ct_weapon_ak47', 't_weapon_ak47', 'ct_weapon_aug', 't_weapon_aug',\n",
       "       'ct_weapon_awp', 't_weapon_awp', 'ct_weapon_bizon', 't_weapon_bizon',\n",
       "       'ct_weapon_cz75auto', 't_weapon_cz75auto', 'ct_weapon_elite',\n",
       "       't_weapon_elite', 'ct_weapon_famas', 't_weapon_famas',\n",
       "       'ct_weapon_g3sg1', 't_weapon_g3sg1', 'ct_weapon_galilar',\n",
       "       't_weapon_galilar', 'ct_weapon_glock', 't_weapon_glock',\n",
       "       'ct_weapon_m249', 't_weapon_m249', 'ct_weapon_m4a1s', 't_weapon_m4a1s',\n",
       "       'ct_weapon_m4a4', 't_weapon_m4a4', 'ct_weapon_mac10', 't_weapon_mac10',\n",
       "       'ct_weapon_mag7', 't_weapon_mag7', 'ct_weapon_mp5sd', 't_weapon_mp5sd',\n",
       "       'ct_weapon_mp7', 't_weapon_mp7'],\n",
       "      dtype='object')"
      ]
     },
     "execution_count": 96,
     "metadata": {},
     "output_type": "execute_result"
    }
   ],
   "source": [
    "all_columns = all_data.columns\n",
    "treat_data = all_data.copy()\n",
    "all_columns[0:50]\n"
   ]
  },
  {
   "cell_type": "code",
   "execution_count": 97,
   "metadata": {},
   "outputs": [],
   "source": [
    "# Concatenating all t main and sec rifles\n",
    "treat_data['t_main_rifle'] = treat_data['t_weapon_ak47'] + treat_data['t_weapon_aug'] + treat_data['t_weapon_m4a4'] + \\\n",
    "    treat_data['t_weapon_m4a1s'] + \\\n",
    "    treat_data['t_weapon_sg553']\n",
    "treat_data['t_sec_rifle'] = treat_data['t_weapon_galilar'] + \\\n",
    "    treat_data['t_weapon_famas']\n",
    "\n",
    "# Concatenating all t normal force buy weapons\n",
    "treat_data['t_force_weapons'] = treat_data['t_weapon_ssg08'] + treat_data['t_weapon_mp9'] + treat_data['t_weapon_mac10'] + \\\n",
    "    treat_data['t_weapon_mp7'] + \\\n",
    "    treat_data['t_weapon_ump45'] + treat_data['t_weapon_p90'] + treat_data['t_weapon_mp5sd'] + \\\n",
    "    treat_data['t_weapon_mag7'] + treat_data['t_weapon_nova'] + \\\n",
    "    treat_data['t_weapon_xm1014'] \n",
    "\n",
    "# Concatenating all t extra weak pistols \n",
    "treat_data['t_weak_pistols'] = treat_data['t_weapon_p250'] + treat_data['t_weapon_tec9'] + treat_data['t_weapon_fiveseven'] + \\\n",
    "    treat_data['t_weapon_cz75auto']\n",
    "\n",
    "# Concatenating all t extra strong pistols \n",
    "treat_data['t_strong_pistols'] = treat_data['t_weapon_deagle'] + treat_data['t_weapon_r8revolver'] \n",
    "\n",
    "# treat_data['t_weapon_awp']"
   ]
  },
  {
   "cell_type": "code",
   "execution_count": 98,
   "metadata": {},
   "outputs": [],
   "source": [
    "# Concatenating all ct main and sec rifles\n",
    "treat_data['ct_main_rifle'] = treat_data['ct_weapon_ak47'] + treat_data['ct_weapon_aug'] + treat_data['ct_weapon_m4a4'] + \\\n",
    "    treat_data['ct_weapon_m4a1s'] + \\\n",
    "    treat_data['ct_weapon_sg553']\n",
    "treat_data['ct_sec_rifle'] = treat_data['ct_weapon_galilar'] + \\\n",
    "    treat_data['ct_weapon_famas']\n",
    "\n",
    "# Concatenating all ct normal force buy weapons\n",
    "treat_data['ct_force_weapons'] = treat_data['ct_weapon_ssg08'] + treat_data['ct_weapon_mp9'] + treat_data['ct_weapon_mac10'] + \\\n",
    "    treat_data['ct_weapon_mp7'] + \\\n",
    "    treat_data['ct_weapon_ump45'] + treat_data['ct_weapon_p90'] + treat_data['ct_weapon_mp5sd'] + \\\n",
    "    treat_data['ct_weapon_mag7'] + treat_data['ct_weapon_nova'] + \\\n",
    "    treat_data['ct_weapon_xm1014'] \n",
    "\n",
    "# Concatenating all t extra weak pistols \n",
    "treat_data['ct_weak_pistols'] = treat_data['ct_weapon_p250'] + treat_data['ct_weapon_tec9'] + treat_data['ct_weapon_fiveseven'] + \\\n",
    "    treat_data['ct_weapon_cz75auto']\n",
    "# Concatenating all t extra strong pistols \n",
    "treat_data['ct_strong_pistols'] = treat_data['ct_weapon_deagle'] + treat_data['ct_weapon_r8revolver'] \n",
    "\n",
    "# treat_data['ct_weapon_awp']\n"
   ]
  },
  {
   "cell_type": "code",
   "execution_count": 99,
   "metadata": {},
   "outputs": [],
   "source": [
    "#Apply functions\n",
    "def define_full_ct_eco(row):\n",
    "    if(row['ct_force_weapons'] + row['ct_main_rifle'] + row['ct_weapon_awp'] + row['ct_strong_pistols'] == 0) and (row['ct_armor'] < 3):\n",
    "        return 1\n",
    "    else:\n",
    "        return 0\n",
    "\n",
    "def define_full_t_eco(row):\n",
    "    if(row['t_force_weapons'] + row['t_main_rifle'] + row['t_weapon_awp'] + row['t_strong_pistols'] == 0) and (row['t_armor'] < 3):\n",
    "        return 1\n",
    "    else:\n",
    "        return 0"
   ]
  },
  {
   "cell_type": "code",
   "execution_count": 100,
   "metadata": {},
   "outputs": [],
   "source": [
    "treat_data['full_ct_eco'] = treat_data.apply(define_full_ct_eco, axis=1)\n",
    "treat_data['full_t_eco'] = treat_data.apply(define_full_t_eco, axis=1)"
   ]
  },
  {
   "cell_type": "code",
   "execution_count": 102,
   "metadata": {},
   "outputs": [
    {
     "data": {
      "text/plain": [
       "0    112067\n",
       "1     10343\n",
       "Name: full_ct_eco, dtype: int64"
      ]
     },
     "execution_count": 102,
     "metadata": {},
     "output_type": "execute_result"
    }
   ],
   "source": [
    "# xxx = treat_data[['ct_main_rifle','ct_force_weapons']]\n"
   ]
  }
 ],
 "metadata": {
  "interpreter": {
   "hash": "ff74ee5195f1f02ca89969b282d1eec9c3f4fa6f9203207a738a0d65a5b88442"
  },
  "kernelspec": {
   "display_name": "Python 3.9.7 64-bit",
   "language": "python",
   "name": "python3"
  },
  "language_info": {
   "codemirror_mode": {
    "name": "ipython",
    "version": 3
   },
   "file_extension": ".py",
   "mimetype": "text/x-python",
   "name": "python",
   "nbconvert_exporter": "python",
   "pygments_lexer": "ipython3",
   "version": "3.9.7"
  },
  "orig_nbformat": 4
 },
 "nbformat": 4,
 "nbformat_minor": 2
}
