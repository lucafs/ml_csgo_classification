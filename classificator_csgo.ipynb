{
 "cells": [
  {
   "cell_type": "code",
   "execution_count": 33,
   "metadata": {},
   "outputs": [],
   "source": [
    "import pandas as pd\n",
    "all_data = pd.read_csv('csgo_round_snapshots.csv')"
   ]
  },
  {
   "cell_type": "code",
   "execution_count": 34,
   "metadata": {},
   "outputs": [
    {
     "data": {
      "text/plain": [
       "Index(['time_left', 'ct_score', 't_score', 'map', 'bomb_planted', 'ct_health',\n",
       "       't_health', 'ct_armor', 't_armor', 'ct_money', 't_money', 'ct_helmets',\n",
       "       't_helmets', 'ct_defuse_kits', 'ct_players_alive', 't_players_alive'],\n",
       "      dtype='object')"
      ]
     },
     "execution_count": 34,
     "metadata": {},
     "output_type": "execute_result"
    }
   ],
   "source": [
    "all_columns = all_data.columns\n",
    "treat_data = all_data.copy()\n",
    "all_columns[0:16]"
   ]
  },
  {
   "cell_type": "code",
   "execution_count": 35,
   "metadata": {},
   "outputs": [],
   "source": [
    "# Concatenating all t main rifles\n",
    "treat_data['t_main_rifle'] = treat_data['t_weapon_ak47'] + treat_data['t_weapon_aug'] + treat_data['t_weapon_m4a4'] + \\\n",
    "    treat_data['t_weapon_m4a1s'] + \\\n",
    "    treat_data['t_weapon_sg553']\n",
    "# Concatenating all ct sec rifles\n",
    "treat_data['t_sec_rifle'] = treat_data['t_weapon_galilar'] + \\\n",
    "    treat_data['t_weapon_famas']\n",
    "\n",
    "# Concatenating all t normal force buy weapons\n",
    "treat_data['t_force_weapons'] = treat_data['t_weapon_ssg08'] + treat_data['t_weapon_mp9'] + treat_data['t_weapon_mac10'] + \\\n",
    "    treat_data['t_weapon_mp7'] + \\\n",
    "    treat_data['t_weapon_ump45'] + treat_data['t_weapon_p90'] + treat_data['t_weapon_mp5sd'] + \\\n",
    "    treat_data['t_weapon_mag7'] + treat_data['t_weapon_nova'] + \\\n",
    "    treat_data['t_weapon_xm1014'] \n",
    "\n",
    "# Concatenating all t extra weak pistols \n",
    "treat_data['t_weak_pistols'] = treat_data['t_weapon_p250'] + treat_data['t_weapon_tec9'] + treat_data['t_weapon_fiveseven'] + \\\n",
    "    treat_data['t_weapon_cz75auto']\n",
    "\n",
    "# Concatenating all t extra strong pistols \n",
    "treat_data['t_strong_pistols'] = treat_data['t_weapon_deagle'] + treat_data['t_weapon_r8revolver'] \n",
    "\n",
    "treat_data['t_granades'] = treat_data['t_grenade_hegrenade'] + treat_data['t_grenade_flashbang'] + \\\n",
    "    treat_data['t_grenade_smokegrenade'] + \\\n",
    "    treat_data['t_grenade_incendiarygrenade'] + \\\n",
    "    treat_data['t_grenade_molotovgrenade']\n",
    "    \n",
    "# treat_data['t_weapon_awp']"
   ]
  },
  {
   "cell_type": "code",
   "execution_count": 36,
   "metadata": {},
   "outputs": [],
   "source": [
    "# Concatenating all ct main rifles\n",
    "treat_data['ct_main_rifle'] = treat_data['ct_weapon_ak47'] + treat_data['ct_weapon_aug'] + treat_data['ct_weapon_m4a4'] + \\\n",
    "    treat_data['ct_weapon_m4a1s'] + \\\n",
    "    treat_data['ct_weapon_sg553']\n",
    "# Concatenating all ct sec rifles\n",
    "treat_data['ct_sec_rifle'] = treat_data['ct_weapon_galilar'] + \\\n",
    "    treat_data['ct_weapon_famas']\n",
    "\n",
    "# Concatenating all ct normal force buy weapons\n",
    "treat_data['ct_force_weapons'] = treat_data['ct_weapon_ssg08'] + treat_data['ct_weapon_mp9'] + treat_data['ct_weapon_mac10'] + \\\n",
    "    treat_data['ct_weapon_mp7'] + \\\n",
    "    treat_data['ct_weapon_ump45'] + treat_data['ct_weapon_p90'] + treat_data['ct_weapon_mp5sd'] + \\\n",
    "    treat_data['ct_weapon_mag7'] + treat_data['ct_weapon_nova'] + \\\n",
    "    treat_data['ct_weapon_xm1014'] \n",
    "\n",
    "# Concatenating all t extra weak pistols \n",
    "treat_data['ct_weak_pistols'] = treat_data['ct_weapon_p250'] + treat_data['ct_weapon_tec9'] + treat_data['ct_weapon_fiveseven'] + \\\n",
    "    treat_data['ct_weapon_cz75auto']\n",
    "# Concatenating all t extra strong pistols \n",
    "treat_data['ct_strong_pistols'] = treat_data['ct_weapon_deagle'] + treat_data['ct_weapon_r8revolver'] \n",
    "\n",
    "treat_data['ct_granades'] = treat_data['ct_grenade_hegrenade'] + treat_data['ct_grenade_flashbang'] + \\\n",
    "    treat_data['ct_grenade_smokegrenade'] + \\\n",
    "    treat_data['ct_grenade_incendiarygrenade'] + \\\n",
    "    treat_data['ct_grenade_molotovgrenade']\n",
    "\n",
    "# treat_data['ct_weapon_awp']\n"
   ]
  },
  {
   "cell_type": "code",
   "execution_count": 37,
   "metadata": {},
   "outputs": [],
   "source": [
    "#Apply functions\n",
    "def define_full_ct_eco(row):\n",
    "    '''Nothing other than pistols and less than 3 people with armor and strong pistol'''\n",
    "    if(row['ct_force_weapons'] + row['ct_main_rifle'] + row['ct_weapon_awp']  == 0) and (row['ct_armor'] < 3) and (row['ct_strong_pistols'] < 3) and (row['pistolRound'] == 0):\n",
    "        return 1\n",
    "    else:\n",
    "        return 0\n",
    "\n",
    "def define_full_t_eco(row):\n",
    "    '''Nothing other than pistols and less than 3 people with armor and strong pistol'''\n",
    "    if(row['t_force_weapons'] + row['t_main_rifle'] + row['t_weapon_awp'] + row['t_strong_pistols'] == 0) and (row['t_armor'] < 3) and (row['pistolRound'] == 0):\n",
    "        return 1\n",
    "    else:\n",
    "        return 0\n",
    " \n",
    "def define_force_ct_round(row):\n",
    "    '''Less than 3 medium rifle, no strong rifles or awp and not more than 13 granades'''\n",
    "    if(row['ct_force_weapons'] + row['ct_sec_rifle']  > 3) and (row['ct_sec_rifle'] < 3) and (row['ct_main_rifle'] == 0) and (row['ct_weapon_awp'] == 0) and (row['ct_granades'] < 13):\n",
    "        return 1\n",
    "    else:\n",
    "        return 0\n",
    "\n",
    "def define_force_t_round(row):\n",
    "    '''Less than 3 medium rifle, no strong rifles or awp and not more than 13 granades'''\n",
    "    if(row['t_force_weapons'] + row['t_sec_rifle']  > 3) and (row['t_sec_rifle'] < 3) and (row['t_main_rifle'] == 0) and (row['t_weapon_awp'] == 0) and (row['t_granades'] < 13):\n",
    "        return 1\n",
    "    else:\n",
    "        return 0\n",
    "\n",
    "\n"
   ]
  },
  {
   "cell_type": "code",
   "execution_count": 38,
   "metadata": {},
   "outputs": [],
   "source": [
    "# Defining pistol rounds\n",
    "treat_data['pistolRound'] = treat_data.apply(lambda row: \n",
    "    1 if((row['ct_score']+row['t_score']) == 0 or (row['ct_score']+row['t_score']) == 15) else 0, axis=1)\n",
    "\n",
    "# Defining eco rounds\n",
    "treat_data['ct_eco'] = treat_data.apply(define_full_ct_eco, axis=1)\n",
    "treat_data['t_eco'] = treat_data.apply(define_full_t_eco, axis=1)\n",
    "\n",
    "# Defining force buy rounds\n",
    "treat_data['ct_force'] = treat_data.apply(define_force_ct_round, axis=1)\n",
    "treat_data['t_force'] = treat_data.apply(define_force_t_round, axis=1)"
   ]
  },
  {
   "cell_type": "code",
   "execution_count": 46,
   "metadata": {},
   "outputs": [],
   "source": [
    "#Selecting columns \n",
    "normal_columns = all_columns[0:16].tolist()\n",
    "made_columns_t = [\"t_main_rifle\",\"t_sec_rifle\",\"t_force_weapons\",\"t_weak_pistols\",\"t_strong_pistols\",\"t_granades\",\"t_weapon_awp\",\"t_eco\",\"t_force\"]\n",
    "made_columns_ct = [\"ct_main_rifle\",\"ct_sec_rifle\",\"ct_force_weapons\",\"ct_weak_pistols\",\"ct_strong_pistols\",\"ct_granades\",\"ct_weapon_awp\",\"ct_eco\",\"ct_force\"]\n",
    "extra_columns = ['pistolRound','round_winner']\n",
    "selected_columns = normal_columns + made_columns_ct + made_columns_t + extra_columns\n",
    "\n",
    "# Getting only columns selected columns\n",
    "final_df = treat_data[selected_columns]\n"
   ]
  },
  {
   "cell_type": "code",
   "execution_count": 47,
   "metadata": {},
   "outputs": [
    {
     "name": "stdout",
     "output_type": "stream",
     "text": [
      "<class 'pandas.core.frame.DataFrame'>\n",
      "RangeIndex: 122410 entries, 0 to 122409\n",
      "Data columns (total 36 columns):\n",
      " #   Column             Non-Null Count   Dtype  \n",
      "---  ------             --------------   -----  \n",
      " 0   time_left          122410 non-null  float64\n",
      " 1   ct_score           122410 non-null  float64\n",
      " 2   t_score            122410 non-null  float64\n",
      " 3   map                122410 non-null  object \n",
      " 4   bomb_planted       122410 non-null  bool   \n",
      " 5   ct_health          122410 non-null  float64\n",
      " 6   t_health           122410 non-null  float64\n",
      " 7   ct_armor           122410 non-null  float64\n",
      " 8   t_armor            122410 non-null  float64\n",
      " 9   ct_money           122410 non-null  float64\n",
      " 10  t_money            122410 non-null  float64\n",
      " 11  ct_helmets         122410 non-null  float64\n",
      " 12  t_helmets          122410 non-null  float64\n",
      " 13  ct_defuse_kits     122410 non-null  float64\n",
      " 14  ct_players_alive   122410 non-null  float64\n",
      " 15  t_players_alive    122410 non-null  float64\n",
      " 16  ct_main_rifle      122410 non-null  float64\n",
      " 17  ct_sec_rifle       122410 non-null  float64\n",
      " 18  ct_force_weapons   122410 non-null  float64\n",
      " 19  ct_weak_pistols    122410 non-null  float64\n",
      " 20  ct_strong_pistols  122410 non-null  float64\n",
      " 21  ct_granades        122410 non-null  float64\n",
      " 22  ct_weapon_awp      122410 non-null  float64\n",
      " 23  ct_eco             122410 non-null  int64  \n",
      " 24  ct_force           122410 non-null  int64  \n",
      " 25  t_main_rifle       122410 non-null  float64\n",
      " 26  t_sec_rifle        122410 non-null  float64\n",
      " 27  t_force_weapons    122410 non-null  float64\n",
      " 28  t_weak_pistols     122410 non-null  float64\n",
      " 29  t_strong_pistols   122410 non-null  float64\n",
      " 30  t_granades         122410 non-null  float64\n",
      " 31  t_weapon_awp       122410 non-null  float64\n",
      " 32  t_eco              122410 non-null  int64  \n",
      " 33  t_force            122410 non-null  int64  \n",
      " 34  pistolRound        122410 non-null  int64  \n",
      " 35  round_winner       122410 non-null  object \n",
      "dtypes: bool(1), float64(28), int64(5), object(2)\n",
      "memory usage: 32.8+ MB\n"
     ]
    }
   ],
   "source": [
    "final_df.info()"
   ]
  }
 ],
 "metadata": {
  "interpreter": {
   "hash": "ff74ee5195f1f02ca89969b282d1eec9c3f4fa6f9203207a738a0d65a5b88442"
  },
  "kernelspec": {
   "display_name": "Python 3.9.7 64-bit",
   "language": "python",
   "name": "python3"
  },
  "language_info": {
   "codemirror_mode": {
    "name": "ipython",
    "version": 3
   },
   "file_extension": ".py",
   "mimetype": "text/x-python",
   "name": "python",
   "nbconvert_exporter": "python",
   "pygments_lexer": "ipython3",
   "version": "3.9.7"
  },
  "orig_nbformat": 4
 },
 "nbformat": 4,
 "nbformat_minor": 2
}
