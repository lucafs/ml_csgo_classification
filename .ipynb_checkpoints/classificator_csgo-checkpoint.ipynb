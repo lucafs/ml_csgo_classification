{
 "cells": [
  {
   "cell_type": "code",
   "execution_count": 1,
   "metadata": {},
   "outputs": [],
   "source": [
    "import sys\n",
    "\n",
    "import pandas as pd\n",
    "\n",
    "sys.path.append(\"./utils\")"
   ]
  },
  {
   "cell_type": "code",
   "execution_count": 2,
   "metadata": {},
   "outputs": [],
   "source": [
    "import loader\n",
    "import round_classifier\n",
    "from Parser import Parser"
   ]
  },
  {
   "cell_type": "code",
   "execution_count": 3,
   "metadata": {},
   "outputs": [],
   "source": [
    "all_data = loader.load_dataset()"
   ]
  },
  {
   "cell_type": "code",
   "execution_count": 4,
   "metadata": {},
   "outputs": [
    {
     "data": {
      "text/plain": [
       "Index(['time_left', 'ct_score', 't_score', 'map', 'bomb_planted', 'ct_health',\n",
       "       't_health', 'ct_armor', 't_armor', 'ct_money', 't_money', 'ct_helmets',\n",
       "       't_helmets', 'ct_defuse_kits', 'ct_players_alive', 't_players_alive'],\n",
       "      dtype='object')"
      ]
     },
     "execution_count": 4,
     "metadata": {},
     "output_type": "execute_result"
    }
   ],
   "source": [
    "all_columns = all_data.columns\n",
    "all_columns[0:16]"
   ]
  },
  {
   "cell_type": "code",
   "execution_count": 5,
   "metadata": {},
   "outputs": [],
   "source": [
    "parser = Parser()\n",
    "treat_data = parser.classify_weapons(all_data.copy())"
   ]
  },
  {
   "cell_type": "code",
   "execution_count": 6,
   "metadata": {},
   "outputs": [],
   "source": [
    "treat_data[\"pistol_round\"] = treat_data.apply(\n",
    "    round_classifier.define_pistol_round, axis=1\n",
    ")\n",
    "\n",
    "# Defining eco rounds\n",
    "treat_data[\"ct_eco\"] = treat_data.apply(round_classifier.define_full_ct_eco, axis=1)\n",
    "treat_data[\"t_eco\"] = treat_data.apply(round_classifier.define_full_t_eco, axis=1)\n",
    "\n",
    "# Defining force buy rounds\n",
    "treat_data[\"ct_force\"] = treat_data.apply(\n",
    "    round_classifier.define_force_ct_round, axis=1\n",
    ")\n",
    "treat_data[\"t_force\"] = treat_data.apply(round_classifier.define_force_t_round, axis=1)"
   ]
  },
  {
   "cell_type": "code",
   "execution_count": 7,
   "metadata": {},
   "outputs": [],
   "source": [
    "# Selecting columns\n",
    "normal_columns = all_columns[0:16].tolist()\n",
    "made_columns_t = [\n",
    "    \"t_main_rifle\",\n",
    "    \"t_sec_rifle\",\n",
    "    \"t_force_weapons\",\n",
    "    \"t_weak_pistols\",\n",
    "    \"t_strong_pistols\",\n",
    "    \"t_granades\",\n",
    "    \"t_weapon_awp\",\n",
    "    \"t_eco\",\n",
    "    \"t_force\",\n",
    "]\n",
    "made_columns_ct = [\n",
    "    \"ct_main_rifle\",\n",
    "    \"ct_sec_rifle\",\n",
    "    \"ct_force_weapons\",\n",
    "    \"ct_weak_pistols\",\n",
    "    \"ct_strong_pistols\",\n",
    "    \"ct_granades\",\n",
    "    \"ct_weapon_awp\",\n",
    "    \"ct_eco\",\n",
    "    \"ct_force\",\n",
    "]\n",
    "extra_columns = [\"pistol_round\", \"round_winner\"]\n",
    "selected_columns = normal_columns + made_columns_ct + made_columns_t + extra_columns\n",
    "\n",
    "# Getting only columns selected columns\n",
    "final_df = treat_data[selected_columns]"
   ]
  },
  {
   "cell_type": "code",
   "execution_count": 8,
   "metadata": {},
   "outputs": [
    {
     "name": "stdout",
     "output_type": "stream",
     "text": [
      "<class 'pandas.core.frame.DataFrame'>\n",
      "RangeIndex: 122410 entries, 0 to 122409\n",
      "Data columns (total 36 columns):\n",
      " #   Column             Non-Null Count   Dtype  \n",
      "---  ------             --------------   -----  \n",
      " 0   time_left          122410 non-null  float64\n",
      " 1   ct_score           122410 non-null  float64\n",
      " 2   t_score            122410 non-null  float64\n",
      " 3   map                122410 non-null  object \n",
      " 4   bomb_planted       122410 non-null  bool   \n",
      " 5   ct_health          122410 non-null  float64\n",
      " 6   t_health           122410 non-null  float64\n",
      " 7   ct_armor           122410 non-null  float64\n",
      " 8   t_armor            122410 non-null  float64\n",
      " 9   ct_money           122410 non-null  float64\n",
      " 10  t_money            122410 non-null  float64\n",
      " 11  ct_helmets         122410 non-null  float64\n",
      " 12  t_helmets          122410 non-null  float64\n",
      " 13  ct_defuse_kits     122410 non-null  float64\n",
      " 14  ct_players_alive   122410 non-null  float64\n",
      " 15  t_players_alive    122410 non-null  float64\n",
      " 16  ct_main_rifle      122410 non-null  float64\n",
      " 17  ct_sec_rifle       122410 non-null  float64\n",
      " 18  ct_force_weapons   122410 non-null  float64\n",
      " 19  ct_weak_pistols    122410 non-null  float64\n",
      " 20  ct_strong_pistols  122410 non-null  float64\n",
      " 21  ct_granades        122410 non-null  float64\n",
      " 22  ct_weapon_awp      122410 non-null  float64\n",
      " 23  ct_eco             122410 non-null  int64  \n",
      " 24  ct_force           122410 non-null  int64  \n",
      " 25  t_main_rifle       122410 non-null  float64\n",
      " 26  t_sec_rifle        122410 non-null  float64\n",
      " 27  t_force_weapons    122410 non-null  float64\n",
      " 28  t_weak_pistols     122410 non-null  float64\n",
      " 29  t_strong_pistols   122410 non-null  float64\n",
      " 30  t_granades         122410 non-null  float64\n",
      " 31  t_weapon_awp       122410 non-null  float64\n",
      " 32  t_eco              122410 non-null  int64  \n",
      " 33  t_force            122410 non-null  int64  \n",
      " 34  pistol_round       122410 non-null  int64  \n",
      " 35  round_winner       122410 non-null  object \n",
      "dtypes: bool(1), float64(28), int64(5), object(2)\n",
      "memory usage: 32.8+ MB\n"
     ]
    }
   ],
   "source": [
    "final_df.info()"
   ]
  },
  {
   "cell_type": "code",
   "execution_count": null,
   "metadata": {},
   "outputs": [],
   "source": []
  }
 ],
 "metadata": {
  "interpreter": {
   "hash": "ff74ee5195f1f02ca89969b282d1eec9c3f4fa6f9203207a738a0d65a5b88442"
  },
  "kernelspec": {
   "display_name": "Python 3 (ipykernel)",
   "language": "python",
   "name": "python3"
  },
  "language_info": {
   "codemirror_mode": {
    "name": "ipython",
    "version": 3
   },
   "file_extension": ".py",
   "mimetype": "text/x-python",
   "name": "python",
   "nbconvert_exporter": "python",
   "pygments_lexer": "ipython3",
   "version": "3.9.1"
  }
 },
 "nbformat": 4,
 "nbformat_minor": 4
}
